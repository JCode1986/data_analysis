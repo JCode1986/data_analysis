{
 "nbformat": 4,
 "nbformat_minor": 2,
 "metadata": {
  "language_info": {
   "name": "python",
   "codemirror_mode": {
    "name": "ipython",
    "version": 3
   },
   "version": "3.6.9"
  },
  "orig_nbformat": 2,
  "file_extension": ".py",
  "mimetype": "text/x-python",
  "name": "python",
  "npconvert_exporter": "python",
  "pygments_lexer": "ipython3",
  "version": 3
 },
 "cells": [
  {
   "cell_type": "markdown",
   "execution_count": 6,
   "metadata": {},
   "outputs": [],
   "source": [
    "# The dataset contains the list of heights and weights, randomly collected and adjusted to look near to real standard health data."
   ]
  },
  {
   "cell_type": "code",
   "execution_count": 11,
   "metadata": {},
   "outputs": [],
   "source": [
    "import pandas as pd\n",
    "import numpy as np\n",
    "import matplotlib.pyplot as plt\n",
    "%matplotlib inline"
   ]
  },
  {
   "cell_type": "markdown",
   "execution_count": 14,
   "metadata": {},
   "outputs": [],
   "source": [
    "# Height and Weight Data Set"
   ]
  },
  {
   "cell_type": "code",
   "execution_count": 68,
   "metadata": {},
   "outputs": [
    {
     "data": {
      "text/html": "<div>\n<style scoped>\n    .dataframe tbody tr th:only-of-type {\n        vertical-align: middle;\n    }\n\n    .dataframe tbody tr th {\n        vertical-align: top;\n    }\n\n    .dataframe thead th {\n        text-align: right;\n    }\n</style>\n<table border=\"1\" class=\"dataframe\">\n  <thead>\n    <tr style=\"text-align: right;\">\n      <th></th>\n      <th>Weight</th>\n      <th>Height</th>\n    </tr>\n  </thead>\n  <tbody>\n    <tr>\n      <th>0</th>\n      <td>28.0</td>\n      <td>121.92</td>\n    </tr>\n    <tr>\n      <th>1</th>\n      <td>28.1</td>\n      <td>124.46</td>\n    </tr>\n    <tr>\n      <th>2</th>\n      <td>28.2</td>\n      <td>127.00</td>\n    </tr>\n    <tr>\n      <th>3</th>\n      <td>28.3</td>\n      <td>129.54</td>\n    </tr>\n    <tr>\n      <th>4</th>\n      <td>28.4</td>\n      <td>132.08</td>\n    </tr>\n  </tbody>\n</table>\n</div>",
      "text/plain": "   Weight  Height\n0    28.0  121.92\n1    28.1  124.46\n2    28.2  127.00\n3    28.3  129.54\n4    28.4  132.08"
     },
     "execution_count": 68,
     "metadata": {},
     "output_type": "execute_result"
    }
   ],
   "source": [
    "wh_df = pd.read_csv('./height_weight.csv')\n",
    "wh_df.head(5)"
   ]
  },
  {
   "cell_type": "code",
   "execution_count": 69,
   "metadata": {},
   "outputs": [
    {
     "name": "stdout",
     "output_type": "stream",
     "text": "<class 'pandas.core.frame.DataFrame'>\nRangeIndex: 35 entries, 0 to 34\nData columns (total 2 columns):\nWeight    35 non-null float64\nHeight    35 non-null float64\ndtypes: float64(2)\nmemory usage: 688.0 bytes\n"
    },
    {
     "data": {
      "text/html": "<div>\n<style scoped>\n    .dataframe tbody tr th:only-of-type {\n        vertical-align: middle;\n    }\n\n    .dataframe tbody tr th {\n        vertical-align: top;\n    }\n\n    .dataframe thead th {\n        text-align: right;\n    }\n</style>\n<table border=\"1\" class=\"dataframe\">\n  <thead>\n    <tr style=\"text-align: right;\">\n      <th></th>\n      <th>Weight</th>\n      <th>Height</th>\n    </tr>\n  </thead>\n  <tbody>\n    <tr>\n      <th>count</th>\n      <td>35.000000</td>\n      <td>35.000000</td>\n    </tr>\n    <tr>\n      <th>mean</th>\n      <td>62.808571</td>\n      <td>165.070857</td>\n    </tr>\n    <tr>\n      <th>std</th>\n      <td>25.004992</td>\n      <td>25.979902</td>\n    </tr>\n    <tr>\n      <th>min</th>\n      <td>28.000000</td>\n      <td>121.920000</td>\n    </tr>\n    <tr>\n      <th>25%</th>\n      <td>41.300000</td>\n      <td>143.510000</td>\n    </tr>\n    <tr>\n      <th>50%</th>\n      <td>62.600000</td>\n      <td>165.100000</td>\n    </tr>\n    <tr>\n      <th>75%</th>\n      <td>83.650000</td>\n      <td>186.690000</td>\n    </tr>\n    <tr>\n      <th>max</th>\n      <td>104.800000</td>\n      <td>208.000000</td>\n    </tr>\n  </tbody>\n</table>\n</div>",
      "text/plain": "           Weight      Height\ncount   35.000000   35.000000\nmean    62.808571  165.070857\nstd     25.004992   25.979902\nmin     28.000000  121.920000\n25%     41.300000  143.510000\n50%     62.600000  165.100000\n75%     83.650000  186.690000\nmax    104.800000  208.000000"
     },
     "execution_count": 69,
     "metadata": {},
     "output_type": "execute_result"
    }
   ],
   "source": [
    "wh_df.info()\n",
    "wh_df.describe()"
   ]
  },
  {
   "cell_type": "code",
   "execution_count": 77,
   "metadata": {},
   "outputs": [
    {
     "data": {
      "image/png": "[encoded data removed]",
      "text/plain": "<Figure size 432x288 with 1 Axes>"
     },
     "metadata": {
      "needs_background": "light"
     },
     "output_type": "display_data"
    }
   ],
   "source": [
    "wh_df.plot(x='Weight', y='Height', style='bo')\n",
    "plt.title('Weight to Height Ratio')\n",
    "plt.xlabel('Weight')\n",
    "plt.ylabel('Height')\n",
    "plt.show()"
   ]
  },
  {
   "cell_type": "code",
   "execution_count": 72,
   "metadata": {},
   "outputs": [
    {
     "data": {
      "text/plain": "array([121.92, 124.46, 127.  , 129.54, 132.08, 134.62, 137.16, 139.7 ,\n       142.24, 144.78, 147.32, 149.86, 152.4 , 154.94, 157.48, 160.02,\n       162.56, 165.1 , 167.64, 170.18, 172.72, 175.26, 177.8 , 180.34,\n       182.88, 185.42, 187.96, 190.5 , 193.04, 195.58, 198.12, 200.66,\n       203.2 , 205.  , 208.  ])"
     },
     "execution_count": 72,
     "metadata": {},
     "output_type": "execute_result"
    }
   ],
   "source": [
    "X = wh_df.iloc[:, :-1].values\n",
    "y = wh_df.iloc[:, 1].values\n",
    "y"
   ]
  },
  {
   "cell_type": "code",
   "execution_count": 74,
   "metadata": {},
   "outputs": [],
   "source": [
    "from sklearn.model_selection import train_test_split\n",
    "X_train, X_test, y_train, y_test = train_test_split(X, y, test_size=2, random_state=0)"
   ]
  },
  {
   "cell_type": "code",
   "execution_count": 75,
   "metadata": {},
   "outputs": [
    {
     "data": {
      "text/plain": "LinearRegression(copy_X=True, fit_intercept=True, n_jobs=None, normalize=False)"
     },
     "execution_count": 75,
     "metadata": {},
     "output_type": "execute_result"
    }
   ],
   "source": [
    "from sklearn.linear_model import LinearRegression\n",
    "regressor = LinearRegression()\n",
    "regressor.fit(X_train, y_train)"
   ]
  },
  {
   "cell_type": "code",
   "execution_count": 44,
   "metadata": {},
   "outputs": [
    {
     "name": "stdout",
     "output_type": "stream",
     "text": "99.96115628380053\n"
    }
   ],
   "source": [
    "print(regressor.intercept_)"
   ]
  },
  {
   "cell_type": "code",
   "execution_count": 45,
   "metadata": {},
   "outputs": [
    {
     "name": "stdout",
     "output_type": "stream",
     "text": "[1.03657261]\n"
    }
   ],
   "source": [
    "print(regressor.coef_)"
   ]
  },
  {
   "cell_type": "code",
   "execution_count": 58,
   "metadata": {},
   "outputs": [
    {
     "data": {
      "text/html": "<div>\n<style scoped>\n    .dataframe tbody tr th:only-of-type {\n        vertical-align: middle;\n    }\n\n    .dataframe tbody tr th {\n        vertical-align: top;\n    }\n\n    .dataframe thead th {\n        text-align: right;\n    }\n</style>\n<table border=\"1\" class=\"dataframe\">\n  <thead>\n    <tr style=\"text-align: right;\">\n      <th></th>\n      <th>Actual</th>\n      <th>Predicted</th>\n    </tr>\n  </thead>\n  <tbody>\n    <tr>\n      <th>0</th>\n      <td>195.58</td>\n      <td>195.844123</td>\n    </tr>\n    <tr>\n      <th>1</th>\n      <td>172.72</td>\n      <td>172.313925</td>\n    </tr>\n  </tbody>\n</table>\n</div>",
      "text/plain": "   Actual   Predicted\n0  195.58  195.844123\n1  172.72  172.313925"
     },
     "execution_count": 58,
     "metadata": {},
     "output_type": "execute_result"
    }
   ],
   "source": [
    "y_pred = regressor.predict(X_test)\n",
    "df = pd.DataFrame({'Actual':y_test, 'Predicted':y_pred})\n",
    "df"
   ]
  }
 ]
}